{
 "cells": [
  {
   "cell_type": "markdown",
   "source": [
    "# Data Engineer Challenge"
   ],
   "metadata": {
    "collapsed": false
   },
   "id": "8ddbf3b0693e5fc9"
  },
  {
   "cell_type": "code",
   "execution_count": 3,
   "outputs": [],
   "source": [
    "import pandas as pd\n",
    "import json\n",
    "\n",
    "from pandas import json_normalize"
   ],
   "metadata": {
    "collapsed": false,
    "ExecuteTime": {
     "start_time": "2023-09-30T19:04:42.909023738Z"
    }
   },
   "id": "27f1043c4cd8afe0"
  },
  {
   "cell_type": "markdown",
   "source": [
    "# Preparación de los datos\n",
    "\n",
    "Debido a que el archivo de origen contenía registros malformados, fue necesario procesar el archivo línea por línea, en caso de que el archivo hubiese venido sin malformados se podría haber leido el archivo utilizando *pd.read_json*"
   ],
   "metadata": {
    "collapsed": false
   },
   "id": "e11571b053dea790"
  },
  {
   "cell_type": "code",
   "execution_count": 12,
   "outputs": [],
   "source": [
    "tweets_path = r'../src/resources/farmers-protest-tweets-2021-2-4.json'"
   ],
   "metadata": {
    "collapsed": false,
    "ExecuteTime": {
     "end_time": "2023-09-30T19:20:24.980804938Z",
     "start_time": "2023-09-30T19:20:24.975958596Z"
    }
   },
   "id": "4c5ce1743544ed34"
  },
  {
   "cell_type": "code",
   "execution_count": null,
   "outputs": [],
   "source": [
    "tweets, bad_lines = [], []\n",
    "with open(tweets_path, 'r') as file:\n",
    "    for line in file:\n",
    "        try:\n",
    "          tweets.append(json.loads(line))\n",
    "        except:\n",
    "          bad_lines.append(line)"
   ],
   "metadata": {
    "collapsed": false
   },
   "id": "71bc9c688d23b679"
  },
  {
   "cell_type": "code",
   "execution_count": 11,
   "outputs": [],
   "source": [
    "tweets_flat_df = json_normalize(tweets)"
   ],
   "metadata": {
    "collapsed": false,
    "ExecuteTime": {
     "end_time": "2023-09-30T19:09:17.401026556Z",
     "start_time": "2023-09-30T19:09:09.166700321Z"
    }
   },
   "id": "b1a8ba57ed8964dd"
  },
  {
   "cell_type": "markdown",
   "source": [
    "# Desafío"
   ],
   "metadata": {
    "collapsed": false
   },
   "id": "6cc2e8acbb577789"
  },
  {
   "cell_type": "markdown",
   "source": [
    "## Los top 10 tweets más retweeted."
   ],
   "metadata": {
    "collapsed": false
   },
   "id": "5b5ba03bb603515f"
  },
  {
   "cell_type": "code",
   "execution_count": null,
   "outputs": [],
   "source": [],
   "metadata": {
    "collapsed": false
   },
   "id": "60e992776d532aab"
  },
  {
   "cell_type": "markdown",
   "source": [
    "## Los top 10 users en función a la cantidad de tweets que emitieron."
   ],
   "metadata": {
    "collapsed": false
   },
   "id": "4dff79d1412e7c6b"
  },
  {
   "cell_type": "code",
   "execution_count": null,
   "outputs": [],
   "source": [],
   "metadata": {
    "collapsed": false
   },
   "id": "f40a6be0bf56a2fd"
  },
  {
   "cell_type": "markdown",
   "source": [
    "## Los top 10 días donde hay más tweets."
   ],
   "metadata": {
    "collapsed": false
   },
   "id": "9ea45bea0b6ff65e"
  },
  {
   "cell_type": "code",
   "execution_count": null,
   "outputs": [],
   "source": [],
   "metadata": {
    "collapsed": false
   },
   "id": "55855c8732aedc72"
  },
  {
   "cell_type": "markdown",
   "source": [
    "   ## Los top 10 hashtags más usados."
   ],
   "metadata": {
    "collapsed": false
   },
   "id": "604ae4a22ff13085"
  },
  {
   "cell_type": "code",
   "execution_count": null,
   "outputs": [],
   "source": [],
   "metadata": {
    "collapsed": false
   },
   "id": "209e2908fdc5ce1b"
  },
  {
   "cell_type": "markdown",
   "source": [
    "## Los top 10 emojis más usados."
   ],
   "metadata": {
    "collapsed": false
   },
   "id": "e6b53c6d8200203d"
  },
  {
   "cell_type": "code",
   "execution_count": null,
   "outputs": [],
   "source": [],
   "metadata": {
    "collapsed": false
   },
   "id": "83cf629b5d6c3f4e"
  },
  {
   "cell_type": "markdown",
   "source": [
    "## Los top 10 users más influyentes en función de lo retweeted de sus tweets."
   ],
   "metadata": {
    "collapsed": false
   },
   "id": "7f289100c98eae8d"
  },
  {
   "cell_type": "code",
   "execution_count": null,
   "outputs": [],
   "source": [],
   "metadata": {
    "collapsed": false
   },
   "id": "dadfb8179476f91e"
  }
 ],
 "metadata": {
  "kernelspec": {
   "display_name": "Python 3",
   "language": "python",
   "name": "python3"
  },
  "language_info": {
   "codemirror_mode": {
    "name": "ipython",
    "version": 2
   },
   "file_extension": ".py",
   "mimetype": "text/x-python",
   "name": "python",
   "nbconvert_exporter": "python",
   "pygments_lexer": "ipython2",
   "version": "2.7.6"
  }
 },
 "nbformat": 4,
 "nbformat_minor": 5
}
