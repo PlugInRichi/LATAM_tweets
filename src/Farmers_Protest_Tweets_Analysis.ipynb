{
 "cells": [
  {
   "cell_type": "markdown",
   "source": [
    "# Data Engineer Challenge"
   ],
   "metadata": {
    "collapsed": false
   },
   "id": "8ddbf3b0693e5fc9"
  },
  {
   "cell_type": "code",
   "execution_count": 33,
   "outputs": [],
   "source": [
    "import pandas as pd\n",
    "import json\n",
    "\n",
    "from pandas import json_normalize\n",
    "from src.constants import EMOJI_PATTERN\n",
    "\n",
    "from google.cloud import bigquery\n",
    "from google.oauth2 import service_account"
   ],
   "metadata": {
    "collapsed": false,
    "ExecuteTime": {
     "end_time": "2023-10-01T22:18:18.683317429Z",
     "start_time": "2023-10-01T22:18:18.587452735Z"
    }
   },
   "id": "27f1043c4cd8afe0"
  },
  {
   "cell_type": "markdown",
   "source": [
    "# Preparación de los datos\n",
    "\n",
    "Debido a que el archivo de origen contenía registros malformados, fue necesario procesar el archivo línea por línea, en caso de que el archivo hubiese venido sin malformados se podría haber leido el archivo utilizando *pd.read_json*. Utilizar el método *json_normalize* además de crear el dataframe permite desempaquetar los json que están contenidos dentro de algunos registros."
   ],
   "metadata": {
    "collapsed": false
   },
   "id": "e11571b053dea790"
  },
  {
   "cell_type": "code",
   "execution_count": 34,
   "outputs": [],
   "source": [
    "tweets_path = r'../src/resources/farmers-protest-tweets-2021-2-4.json'"
   ],
   "metadata": {
    "collapsed": false,
    "ExecuteTime": {
     "end_time": "2023-10-01T22:18:18.686336579Z",
     "start_time": "2023-10-01T22:18:18.613202179Z"
    }
   },
   "id": "4c5ce1743544ed34"
  },
  {
   "cell_type": "code",
   "execution_count": 35,
   "outputs": [],
   "source": [
    "tweets, bad_lines = [], []\n",
    "with open(tweets_path, 'r') as file:\n",
    "    for line in file:\n",
    "        try:\n",
    "          tweets.append(json.loads(line))\n",
    "        except:\n",
    "          bad_lines.append(line)"
   ],
   "metadata": {
    "collapsed": false,
    "ExecuteTime": {
     "end_time": "2023-10-01T22:18:25.088232980Z",
     "start_time": "2023-10-01T22:18:18.617610258Z"
    }
   },
   "id": "71bc9c688d23b679"
  },
  {
   "cell_type": "code",
   "execution_count": 36,
   "outputs": [],
   "source": [
    "tweets_flat_df = json_normalize(tweets)"
   ],
   "metadata": {
    "collapsed": false,
    "ExecuteTime": {
     "end_time": "2023-10-01T22:18:32.654676022Z",
     "start_time": "2023-10-01T22:18:25.124528154Z"
    }
   },
   "id": "b1a8ba57ed8964dd"
  },
  {
   "cell_type": "markdown",
   "source": [
    "# Desafío"
   ],
   "metadata": {
    "collapsed": false
   },
   "id": "6cc2e8acbb577789"
  },
  {
   "cell_type": "markdown",
   "source": [
    "## Los top 10 tweets más retweeted.\n",
    "Se utiliza la el método *nlargest* para obtener los 10 registros con más retweets, utilizando el índice se filtra el dataframe original para mostrar el contenido de los 10 tweets con mayor número de retweets"
   ],
   "metadata": {
    "collapsed": false
   },
   "id": "5b5ba03bb603515f"
  },
  {
   "cell_type": "code",
   "execution_count": 37,
   "outputs": [
    {
     "data": {
      "text/plain": "          user.username                                            content  \\\n111329  RakeshTikaitBKU  मध्यप्रदेश में निजी व्यापारी 200 करोड़ का धान ...   \n7645       dhruv_rathee  There's a #FarmersProtest happening in Germany...   \n89780         rupikaur_  disha ravi, a 21-year-old climate activist, ha...   \n88911         amaanbali  Disha Ravi broke down in court room and told j...   \n111556      jedijasmin_  Farmers are so sweet. Y’all have to see this @...   \n64492         rupikaur_  india is targeting young women to silence diss...   \n108072      RaviSinghKA  Bollywood has betrayed Panjab &amp; the farmer...   \n60721      sherryontopp  लहरों को ख़ामोश देख कर ये ना समझना कि समंदर मे...   \n29510      sherryontopp  हाँ मैं जानता हूँ कि मैं शायर नहीं, और ज़ुल्म ...   \n24160      sherryontopp  कलियुग  है साहब , यहाँ झूठे को स्वीकार किया जा...   \n\n        retweetCount  \n111329          7723  \n7645            6164  \n89780           4673  \n88911           3742  \n111556          3332  \n64492           3230  \n108072          3182  \n60721           3057  \n29510           3040  \n24160           2622  ",
      "text/html": "<div>\n<style scoped>\n    .dataframe tbody tr th:only-of-type {\n        vertical-align: middle;\n    }\n\n    .dataframe tbody tr th {\n        vertical-align: top;\n    }\n\n    .dataframe thead th {\n        text-align: right;\n    }\n</style>\n<table border=\"1\" class=\"dataframe\">\n  <thead>\n    <tr style=\"text-align: right;\">\n      <th></th>\n      <th>user.username</th>\n      <th>content</th>\n      <th>retweetCount</th>\n    </tr>\n  </thead>\n  <tbody>\n    <tr>\n      <th>111329</th>\n      <td>RakeshTikaitBKU</td>\n      <td>मध्यप्रदेश में निजी व्यापारी 200 करोड़ का धान ...</td>\n      <td>7723</td>\n    </tr>\n    <tr>\n      <th>7645</th>\n      <td>dhruv_rathee</td>\n      <td>There's a #FarmersProtest happening in Germany...</td>\n      <td>6164</td>\n    </tr>\n    <tr>\n      <th>89780</th>\n      <td>rupikaur_</td>\n      <td>disha ravi, a 21-year-old climate activist, ha...</td>\n      <td>4673</td>\n    </tr>\n    <tr>\n      <th>88911</th>\n      <td>amaanbali</td>\n      <td>Disha Ravi broke down in court room and told j...</td>\n      <td>3742</td>\n    </tr>\n    <tr>\n      <th>111556</th>\n      <td>jedijasmin_</td>\n      <td>Farmers are so sweet. Y’all have to see this @...</td>\n      <td>3332</td>\n    </tr>\n    <tr>\n      <th>64492</th>\n      <td>rupikaur_</td>\n      <td>india is targeting young women to silence diss...</td>\n      <td>3230</td>\n    </tr>\n    <tr>\n      <th>108072</th>\n      <td>RaviSinghKA</td>\n      <td>Bollywood has betrayed Panjab &amp;amp; the farmer...</td>\n      <td>3182</td>\n    </tr>\n    <tr>\n      <th>60721</th>\n      <td>sherryontopp</td>\n      <td>लहरों को ख़ामोश देख कर ये ना समझना कि समंदर मे...</td>\n      <td>3057</td>\n    </tr>\n    <tr>\n      <th>29510</th>\n      <td>sherryontopp</td>\n      <td>हाँ मैं जानता हूँ कि मैं शायर नहीं, और ज़ुल्म ...</td>\n      <td>3040</td>\n    </tr>\n    <tr>\n      <th>24160</th>\n      <td>sherryontopp</td>\n      <td>कलियुग  है साहब , यहाँ झूठे को स्वीकार किया जा...</td>\n      <td>2622</td>\n    </tr>\n  </tbody>\n</table>\n</div>"
     },
     "execution_count": 37,
     "metadata": {},
     "output_type": "execute_result"
    }
   ],
   "source": [
    "index_top_ten_tweets = tweets_flat_df['retweetCount'].nlargest(10).index\n",
    "top_ten_tweets = tweets_flat_df.iloc[index_top_ten_tweets]\n",
    "top_ten_tweets[['user.username','content','retweetCount']]  "
   ],
   "metadata": {
    "collapsed": false,
    "ExecuteTime": {
     "end_time": "2023-10-01T22:18:32.686882376Z",
     "start_time": "2023-10-01T22:18:32.658962552Z"
    }
   },
   "id": "60e992776d532aab"
  },
  {
   "cell_type": "markdown",
   "source": [
    "## Los top 10 users en función a la cantidad de tweets que emitieron.\n",
    "Se agrupan los tweets por usuario y se realiza un conteo por usuario, se toman los 10 valores más grandes."
   ],
   "metadata": {
    "collapsed": false
   },
   "id": "4dff79d1412e7c6b"
  },
  {
   "cell_type": "code",
   "execution_count": 38,
   "outputs": [
    {
     "data": {
      "text/plain": "user.username\njot__b             1019\nrebelpacifist       850\nMaanDee08215437     830\nGurpreetd86         636\nGurmVicky           597\nshells_n_petals     576\npreetysaini321      573\nish_kayy            515\nKaurDosanjh1979     512\nDigitalKisanBot     490\nName: content, dtype: int64"
     },
     "execution_count": 38,
     "metadata": {},
     "output_type": "execute_result"
    }
   ],
   "source": [
    "tweets_flat_df.groupby('user.username')['content'].count().nlargest(10)"
   ],
   "metadata": {
    "collapsed": false,
    "ExecuteTime": {
     "end_time": "2023-10-01T22:18:32.790385170Z",
     "start_time": "2023-10-01T22:18:32.692918515Z"
    }
   },
   "id": "f40a6be0bf56a2fd"
  },
  {
   "cell_type": "markdown",
   "source": [
    "## Los top 10 días donde hay más tweets.\n",
    "Se transforma la columna date para manejarla como fecha.  El método *pd.Grouper* permite especificar que para agrupar los datos de la columna \"date\" es necesario fijarse únicamente en el día, ignorando la infomación de la hora. Posteriormente se hace un conteo de los tweets y se seleccionan los 10 días con mayor número de tweets."
   ],
   "metadata": {
    "collapsed": false
   },
   "id": "9ea45bea0b6ff65e"
  },
  {
   "cell_type": "code",
   "execution_count": 39,
   "outputs": [
    {
     "data": {
      "text/plain": "date\n2021-02-12 00:00:00+00:00    12347\n2021-02-13 00:00:00+00:00    11296\n2021-02-17 00:00:00+00:00    11087\n2021-02-16 00:00:00+00:00    10443\n2021-02-14 00:00:00+00:00    10249\n2021-02-18 00:00:00+00:00     9625\n2021-02-15 00:00:00+00:00     9197\n2021-02-20 00:00:00+00:00     8502\n2021-02-23 00:00:00+00:00     8417\n2021-02-19 00:00:00+00:00     8204\nName: content, dtype: int64"
     },
     "execution_count": 39,
     "metadata": {},
     "output_type": "execute_result"
    }
   ],
   "source": [
    "tweets_flat_df[\"date\"] = pd.to_datetime(tweets_flat_df[\"date\"])\n",
    "tweets_flat_df.groupby(pd.Grouper(key='date', freq='D'))['content'].count().nlargest(10)"
   ],
   "metadata": {
    "collapsed": false,
    "ExecuteTime": {
     "end_time": "2023-10-01T22:18:34.904072482Z",
     "start_time": "2023-10-01T22:18:32.938130187Z"
    }
   },
   "id": "55855c8732aedc72"
  },
  {
   "cell_type": "markdown",
   "source": [
    "   ## Los top 10 hashtags más usados.\n",
    "   Se utiliza una expresión regular para cachar todos las cadenas que comiencen con # que puedan (o no) terminar en espacio o punto, utiliando el método *findall* es posible obtener más de una coincidencia (hashtag) por tweet.\n",
    "   \n",
    "   El resultado de la primera línea devuelve un pd.Series donde cada registro contiene una lista. Se utiliza el método *explode* para convertir cada elemento de la lista en un registro y posteriormente hacer un conteo utilizando el método *value_counts* que devuelve una objeto pd.Series ordenado de forma ascendente. Se toman solo los 10 primero registros. "
   ],
   "metadata": {
    "collapsed": false
   },
   "id": "604ae4a22ff13085"
  },
  {
   "cell_type": "code",
   "execution_count": 40,
   "outputs": [
    {
     "data": {
      "text/plain": "Hashtag\n#FarmersProtest             112630\n#ReleaseDetainedFarmers       5987\n#FarmersMakeIndia             5263\n#farmersprotest               5105\n#MahapanchayatRevolution      4735\n#RepealOnlyWayAhead           4511\n#IndiaBeingSilenced           4332\n#FarmersProtests              3661\n#Pagdi_Sambhal_Jatta          3542\n#DishaRavi                    3017\nName: count, dtype: int64"
     },
     "execution_count": 40,
     "metadata": {},
     "output_type": "execute_result"
    }
   ],
   "source": [
    "hashtags_in_lst = tweets_flat_df[\"content\"].str.findall(r'(#\\w+)[\\s|\\.]?')\n",
    "hashtags = hashtags_in_lst.explode()\n",
    "hashtags.name = 'Hashtag'\n",
    "hashtags.value_counts()[:10]"
   ],
   "metadata": {
    "collapsed": false,
    "ExecuteTime": {
     "end_time": "2023-10-01T22:18:35.149795185Z",
     "start_time": "2023-10-01T22:18:34.892257100Z"
    }
   },
   "id": "209e2908fdc5ce1b"
  },
  {
   "cell_type": "markdown",
   "source": [
    "## Los top 10 emojis más usados.\n",
    "Se implementa la misma fórmula de arriba modificando únicamente la expresión regular utilizada. La expresión regular EMOJI_PATTERN se importa de un archivo de constantes, esta expresión utiliza los rangos unicode donde se encuentran los emojis."
   ],
   "metadata": {
    "collapsed": false
   },
   "id": "e6b53c6d8200203d"
  },
  {
   "cell_type": "code",
   "execution_count": 41,
   "outputs": [
    {
     "data": {
      "text/plain": "Emojis\n🙏    7286\n😂    3072\n️    3061\n🚜    2972\n✊    2411\n🌾    2363\n🇮    2096\n🇳    2094\n🏻    2080\n❤    1779\nName: count, dtype: int64"
     },
     "execution_count": 41,
     "metadata": {},
     "output_type": "execute_result"
    }
   ],
   "source": [
    "emojis_in_lst = tweets_flat_df[\"content\"].str.findall(EMOJI_PATTERN)\n",
    "emojis = emojis_in_lst.explode()\n",
    "emojis.name = 'Emojis'\n",
    "emojis.value_counts()[:10]"
   ],
   "metadata": {
    "collapsed": false,
    "ExecuteTime": {
     "end_time": "2023-10-01T22:18:35.685410719Z",
     "start_time": "2023-10-01T22:18:35.682414715Z"
    }
   },
   "id": "83cf629b5d6c3f4e"
  },
  {
   "cell_type": "markdown",
   "source": [
    "## Los top 10 users más influyentes en función de lo retweeted de sus tweets.\n",
    "Se utiliza una función de agregación para sumar el número de retweets por usuario. Se utiliza el método *nlargest* para seleccionar el top 10."
   ],
   "metadata": {
    "collapsed": false
   },
   "id": "7f289100c98eae8d"
  },
  {
   "cell_type": "code",
   "execution_count": 42,
   "outputs": [
    {
     "data": {
      "text/plain": "user.username\namaanbali          26354\nsaahilmenghani     23288\nRaviSinghKA        22974\nsherryontopp       19175\nRakeshTikaitBKU    12001\nrupikaur_          11420\nnews24tvchannel    10960\niMani_KaurRai      10636\nMonica_Gill1        8593\nbhupenderc19        7360\nName: retweetCount, dtype: int64"
     },
     "execution_count": 42,
     "metadata": {},
     "output_type": "execute_result"
    }
   ],
   "source": [
    "tweets_flat_df.groupby('user.username')['retweetCount'].sum('retweetCount').nlargest(10)"
   ],
   "metadata": {
    "collapsed": false,
    "ExecuteTime": {
     "end_time": "2023-10-01T22:18:35.774891745Z",
     "start_time": "2023-10-01T22:18:35.687865220Z"
    }
   },
   "id": "dadfb8179476f91e"
  },
  {
   "cell_type": "markdown",
   "source": [
    "# BigQuery\n",
    "De forma alternativa podemos usar BigQuery para completar el desafio utilizando SQL para realizar sentencias. Para cargar el dataset es necesario:\n",
    "* Crear o subir el archivo a un bucket existente\n",
    "* Crear un dataset en BigQuery\n",
    "* Crear una tabla en BigQuery importando los datos del bucket permitiendo un máximo de 2 registros malformados\n",
    "* Crear un service account para conectarnos a BigQuery con los permisos para ejecutar jobs y acceso a la tabla\n",
    "* Copiar las credenciales para BQ en src/resources/\n",
    "\n",
    "A continuación se muestran algunos de los desafíos resueltos en BQ\n"
   ],
   "metadata": {
    "collapsed": false
   },
   "id": "21bb4dfae38feb29"
  },
  {
   "cell_type": "code",
   "execution_count": 43,
   "outputs": [],
   "source": [
    "credentials = service_account.Credentials.from_service_account_file(\n",
    "'resources/service_accout_key.json')\n",
    "\n",
    "project_id = 'richi-latam-project-example-id'\n",
    "client = bigquery.Client(credentials= credentials,project=project_id)"
   ],
   "metadata": {
    "collapsed": false,
    "ExecuteTime": {
     "end_time": "2023-10-01T22:18:35.781037908Z",
     "start_time": "2023-10-01T22:18:35.776926778Z"
    }
   },
   "id": "1474023c6618d9f2"
  },
  {
   "cell_type": "markdown",
   "source": [
    "## Los top 10 tweets más retweeted."
   ],
   "metadata": {
    "collapsed": false
   },
   "id": "df0aba5322fa2a39"
  },
  {
   "cell_type": "code",
   "execution_count": 44,
   "outputs": [],
   "source": [
    "query_1 = client.query(\n",
    "    \"\"\"\n",
    "    SELECT user.username, retweetCount \n",
    "    FROM `richi-latam-project-example-id.farmers.farmers-protest-tweets`\n",
    "    ORDER BY retweetCount DESC\n",
    "    LIMIT 10\n",
    "    \"\"\")\n",
    "#Me faltó añadir la columna content xD"
   ],
   "metadata": {
    "collapsed": false,
    "ExecuteTime": {
     "start_time": "2023-10-01T22:18:35.780102100Z"
    }
   },
   "id": "a340df0c022353f4"
  },
  {
   "cell_type": "code",
   "execution_count": 45,
   "outputs": [
    {
     "name": "stdout",
     "output_type": "stream",
     "text": [
      "('RakeshTikaitBKU', 7723)\n",
      "('dhruv_rathee', 6164)\n",
      "('rupikaur_', 4673)\n",
      "('amaanbali', 3742)\n",
      "('jedijasmin_', 3332)\n",
      "('rupikaur_', 3230)\n",
      "('RaviSinghKA', 3182)\n",
      "('sherryontopp', 3057)\n",
      "('sherryontopp', 3040)\n",
      "('sherryontopp', 2622)\n"
     ]
    }
   ],
   "source": [
    "results = query_1.result()\n",
    "for row in results:\n",
    "\tprint(row[0:2])  "
   ],
   "metadata": {
    "collapsed": false,
    "ExecuteTime": {
     "end_time": "2023-10-01T22:18:37.728826191Z",
     "start_time": "2023-10-01T22:18:37.027262533Z"
    }
   },
   "id": "3eb91879d8ee5f88"
  },
  {
   "cell_type": "markdown",
   "source": [
    "## Los top 10 users en función a la cantidad de tweets que emitieron."
   ],
   "metadata": {
    "collapsed": false
   },
   "id": "1ed2d8e48bc7cc96"
  },
  {
   "cell_type": "code",
   "execution_count": 46,
   "outputs": [],
   "source": [
    "query_2 = client.query(\n",
    "    \"\"\"\n",
    "    SELECT user.username, COUNT(content) AS numTweets\n",
    "    FROM `richi-latam-project-example-id.farmers.farmers-protest-tweets`\n",
    "    GROUP BY user.username\n",
    "    ORDER BY numTweets DESC\n",
    "    LIMIT 10\n",
    "    \"\"\")"
   ],
   "metadata": {
    "collapsed": false,
    "ExecuteTime": {
     "end_time": "2023-10-01T22:18:38.241569496Z",
     "start_time": "2023-10-01T22:18:37.732752327Z"
    }
   },
   "id": "3f6d900312b5e603"
  },
  {
   "cell_type": "code",
   "execution_count": 47,
   "outputs": [
    {
     "name": "stdout",
     "output_type": "stream",
     "text": [
      "('jot__b', 1019)\n",
      "('rebelpacifist', 850)\n",
      "('MaanDee08215437', 830)\n",
      "('Gurpreetd86', 635)\n",
      "('GurmVicky', 597)\n",
      "('shells_n_petals', 576)\n",
      "('preetysaini321', 573)\n",
      "('ish_kayy', 515)\n",
      "('KaurDosanjh1979', 512)\n",
      "('DigitalKisanBot', 490)\n"
     ]
    }
   ],
   "source": [
    "results = query_2.result()\n",
    "for row in results:\n",
    "\tprint(row[0:2])  "
   ],
   "metadata": {
    "collapsed": false,
    "ExecuteTime": {
     "end_time": "2023-10-01T22:18:38.854347547Z",
     "start_time": "2023-10-01T22:18:38.259009307Z"
    }
   },
   "id": "38bf254bb7c5cca4"
  },
  {
   "cell_type": "markdown",
   "source": [
    "## Los top 10 días donde hay más tweets."
   ],
   "metadata": {
    "collapsed": false
   },
   "id": "800038ab52aa51e4"
  },
  {
   "cell_type": "code",
   "execution_count": 48,
   "outputs": [],
   "source": [
    "query_3 = client.query(\n",
    "    \"\"\"\n",
    "    SELECT CAST(date AS DATE) AS datePeerDay,  COUNT(content) AS numTweets\n",
    "    FROM `richi-latam-project-example-id.farmers.farmers-protest-tweets`\n",
    "    GROUP BY datePeerDay\n",
    "    ORDER BY numTweets DESC\n",
    "    LIMIT 10\n",
    "    \"\"\")"
   ],
   "metadata": {
    "collapsed": false,
    "ExecuteTime": {
     "end_time": "2023-10-01T22:18:39.465572813Z",
     "start_time": "2023-10-01T22:18:38.860916327Z"
    }
   },
   "id": "6c436d949ae8eda1"
  },
  {
   "cell_type": "code",
   "execution_count": 49,
   "outputs": [
    {
     "name": "stdout",
     "output_type": "stream",
     "text": [
      "(datetime.date(2021, 2, 12), 12347)\n",
      "(datetime.date(2021, 2, 13), 11296)\n",
      "(datetime.date(2021, 2, 17), 11086)\n",
      "(datetime.date(2021, 2, 16), 10443)\n",
      "(datetime.date(2021, 2, 14), 10249)\n",
      "(datetime.date(2021, 2, 18), 9625)\n",
      "(datetime.date(2021, 2, 15), 9197)\n",
      "(datetime.date(2021, 2, 20), 8502)\n",
      "(datetime.date(2021, 2, 23), 8417)\n",
      "(datetime.date(2021, 2, 19), 8204)\n"
     ]
    }
   ],
   "source": [
    "results = query_3.result()\n",
    "for row in results:\n",
    "\tprint(row[0:2])  "
   ],
   "metadata": {
    "collapsed": false,
    "ExecuteTime": {
     "end_time": "2023-10-01T22:18:40.106324152Z",
     "start_time": "2023-10-01T22:18:39.487028158Z"
    }
   },
   "id": "751ac5be0f436e49"
  },
  {
   "cell_type": "markdown",
   "source": [
    "## Los top 10 users más influyentes en función de lo retweeted de sus tweets."
   ],
   "metadata": {
    "collapsed": false
   },
   "id": "df5e07ff2a39946"
  },
  {
   "cell_type": "code",
   "execution_count": 50,
   "outputs": [],
   "source": [
    "query_4 = client.query(\n",
    "    \"\"\"\n",
    "    SELECT user.username, sum(retweetCount) AS numRetweets\n",
    "    FROM `richi-latam-project-example-id.farmers.farmers-protest-tweets`\n",
    "    GROUP BY user.username\n",
    "    ORDER BY numRetweets DESC\n",
    "    LIMIT 10\n",
    "    \"\"\")"
   ],
   "metadata": {
    "collapsed": false,
    "ExecuteTime": {
     "end_time": "2023-10-01T22:18:40.698823521Z",
     "start_time": "2023-10-01T22:18:40.101298394Z"
    }
   },
   "id": "af7841e127893c7c"
  },
  {
   "cell_type": "code",
   "execution_count": 51,
   "outputs": [
    {
     "name": "stdout",
     "output_type": "stream",
     "text": [
      "('amaanbali', 26354)\n",
      "('saahilmenghani', 23288)\n",
      "('RaviSinghKA', 22974)\n",
      "('sherryontopp', 19175)\n",
      "('RakeshTikaitBKU', 12001)\n",
      "('rupikaur_', 11420)\n",
      "('news24tvchannel', 10960)\n",
      "('iMani_KaurRai', 10636)\n",
      "('Monica_Gill1', 8593)\n",
      "('bhupenderc19', 7360)\n"
     ]
    }
   ],
   "source": [
    "results = query_4.result()\n",
    "for row in results:\n",
    "\tprint(row[0:2])  "
   ],
   "metadata": {
    "collapsed": false,
    "ExecuteTime": {
     "end_time": "2023-10-01T22:18:41.268475158Z",
     "start_time": "2023-10-01T22:18:40.715560853Z"
    }
   },
   "id": "a1975bcab03ae567"
  }
 ],
 "metadata": {
  "kernelspec": {
   "display_name": "Python 3",
   "language": "python",
   "name": "python3"
  },
  "language_info": {
   "codemirror_mode": {
    "name": "ipython",
    "version": 2
   },
   "file_extension": ".py",
   "mimetype": "text/x-python",
   "name": "python",
   "nbconvert_exporter": "python",
   "pygments_lexer": "ipython2",
   "version": "2.7.6"
  }
 },
 "nbformat": 4,
 "nbformat_minor": 5
}
