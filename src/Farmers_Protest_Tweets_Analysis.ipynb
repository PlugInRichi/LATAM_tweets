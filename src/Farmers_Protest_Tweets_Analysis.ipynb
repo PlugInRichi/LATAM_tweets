{
 "cells": [
  {
   "cell_type": "markdown",
   "source": [
    "# Data Engineer Challenge"
   ],
   "metadata": {
    "collapsed": false
   },
   "id": "8ddbf3b0693e5fc9"
  },
  {
   "cell_type": "code",
   "execution_count": 3,
   "outputs": [],
   "source": [
    "import pandas as pd\n",
    "import json\n",
    "\n",
    "from pandas import json_normalize"
   ],
   "metadata": {
    "collapsed": false,
    "ExecuteTime": {
     "start_time": "2023-09-30T19:04:42.909023738Z"
    }
   },
   "id": "27f1043c4cd8afe0"
  },
  {
   "cell_type": "markdown",
   "source": [
    "# Preparación de los datos\n",
    "\n",
    "Debido a que el archivo de origen contenía registros malformados, fue necesario procesar el archivo línea por línea, en caso de que el archivo hubiese venido sin malformados se podría haber leido el archivo utilizando *pd.read_json*. Utilizar el método *json_normalize* además de crear el dataframe permite desempaquetar los json que están contenidos dentro de algunos registros."
   ],
   "metadata": {
    "collapsed": false
   },
   "id": "e11571b053dea790"
  },
  {
   "cell_type": "code",
   "execution_count": 12,
   "outputs": [],
   "source": [
    "tweets_path = r'../src/resources/farmers-protest-tweets-2021-2-4.json'"
   ],
   "metadata": {
    "collapsed": false,
    "ExecuteTime": {
     "end_time": "2023-09-30T19:20:24.980804938Z",
     "start_time": "2023-09-30T19:20:24.975958596Z"
    }
   },
   "id": "4c5ce1743544ed34"
  },
  {
   "cell_type": "code",
   "execution_count": null,
   "outputs": [],
   "source": [
    "tweets, bad_lines = [], []\n",
    "with open(tweets_path, 'r') as file:\n",
    "    for line in file:\n",
    "        try:\n",
    "          tweets.append(json.loads(line))\n",
    "        except:\n",
    "          bad_lines.append(line)"
   ],
   "metadata": {
    "collapsed": false
   },
   "id": "71bc9c688d23b679"
  },
  {
   "cell_type": "code",
   "execution_count": 11,
   "outputs": [],
   "source": [
    "tweets_flat_df = json_normalize(tweets)"
   ],
   "metadata": {
    "collapsed": false,
    "ExecuteTime": {
     "end_time": "2023-09-30T19:09:17.401026556Z",
     "start_time": "2023-09-30T19:09:09.166700321Z"
    }
   },
   "id": "b1a8ba57ed8964dd"
  },
  {
   "cell_type": "markdown",
   "source": [
    "# Desafío"
   ],
   "metadata": {
    "collapsed": false
   },
   "id": "6cc2e8acbb577789"
  },
  {
   "cell_type": "markdown",
   "source": [
    "## Los top 10 tweets más retweeted.\n",
    "Se utiliza la el método *nlargest* para obtener los 10 registros con más retweets, utilizando el índice se filtra el dataframe original para mostrar el contenido de los 10 tweets con mayor número de retweets"
   ],
   "metadata": {
    "collapsed": false
   },
   "id": "5b5ba03bb603515f"
  },
  {
   "cell_type": "code",
   "execution_count": 15,
   "outputs": [
    {
     "data": {
      "text/plain": "                                                  content  retweetCount\n111329  मध्यप्रदेश में निजी व्यापारी 200 करोड़ का धान ...          7723\n7645    There's a #FarmersProtest happening in Germany...          6164\n89780   disha ravi, a 21-year-old climate activist, ha...          4673\n88911   Disha Ravi broke down in court room and told j...          3742\n111556  Farmers are so sweet. Y’all have to see this @...          3332\n64492   india is targeting young women to silence diss...          3230\n108072  Bollywood has betrayed Panjab &amp; the farmer...          3182\n60721   लहरों को ख़ामोश देख कर ये ना समझना कि समंदर मे...          3057\n29510   हाँ मैं जानता हूँ कि मैं शायर नहीं, और ज़ुल्म ...          3040\n24160   कलियुग  है साहब , यहाँ झूठे को स्वीकार किया जा...          2622",
      "text/html": "<div>\n<style scoped>\n    .dataframe tbody tr th:only-of-type {\n        vertical-align: middle;\n    }\n\n    .dataframe tbody tr th {\n        vertical-align: top;\n    }\n\n    .dataframe thead th {\n        text-align: right;\n    }\n</style>\n<table border=\"1\" class=\"dataframe\">\n  <thead>\n    <tr style=\"text-align: right;\">\n      <th></th>\n      <th>content</th>\n      <th>retweetCount</th>\n    </tr>\n  </thead>\n  <tbody>\n    <tr>\n      <th>111329</th>\n      <td>मध्यप्रदेश में निजी व्यापारी 200 करोड़ का धान ...</td>\n      <td>7723</td>\n    </tr>\n    <tr>\n      <th>7645</th>\n      <td>There's a #FarmersProtest happening in Germany...</td>\n      <td>6164</td>\n    </tr>\n    <tr>\n      <th>89780</th>\n      <td>disha ravi, a 21-year-old climate activist, ha...</td>\n      <td>4673</td>\n    </tr>\n    <tr>\n      <th>88911</th>\n      <td>Disha Ravi broke down in court room and told j...</td>\n      <td>3742</td>\n    </tr>\n    <tr>\n      <th>111556</th>\n      <td>Farmers are so sweet. Y’all have to see this @...</td>\n      <td>3332</td>\n    </tr>\n    <tr>\n      <th>64492</th>\n      <td>india is targeting young women to silence diss...</td>\n      <td>3230</td>\n    </tr>\n    <tr>\n      <th>108072</th>\n      <td>Bollywood has betrayed Panjab &amp;amp; the farmer...</td>\n      <td>3182</td>\n    </tr>\n    <tr>\n      <th>60721</th>\n      <td>लहरों को ख़ामोश देख कर ये ना समझना कि समंदर मे...</td>\n      <td>3057</td>\n    </tr>\n    <tr>\n      <th>29510</th>\n      <td>हाँ मैं जानता हूँ कि मैं शायर नहीं, और ज़ुल्म ...</td>\n      <td>3040</td>\n    </tr>\n    <tr>\n      <th>24160</th>\n      <td>कलियुग  है साहब , यहाँ झूठे को स्वीकार किया जा...</td>\n      <td>2622</td>\n    </tr>\n  </tbody>\n</table>\n</div>"
     },
     "execution_count": 15,
     "metadata": {},
     "output_type": "execute_result"
    }
   ],
   "source": [
    "index_top_ten_tweets = tweets_flat_df['retweetCount'].nlargest(10).index\n",
    "top_ten_tweets = tweets_flat_df.iloc[index_top_ten_tweets]\n",
    "top_ten_tweets[['content','retweetCount']]  "
   ],
   "metadata": {
    "collapsed": false,
    "ExecuteTime": {
     "end_time": "2023-09-30T19:55:39.789775038Z",
     "start_time": "2023-09-30T19:55:39.775210644Z"
    }
   },
   "id": "60e992776d532aab"
  },
  {
   "cell_type": "markdown",
   "source": [
    "## Los top 10 users en función a la cantidad de tweets que emitieron.\n",
    "Se agrupan los tweets por usuario y se realiza un conteo por usuario, se toman los 10 valores más grandes."
   ],
   "metadata": {
    "collapsed": false
   },
   "id": "4dff79d1412e7c6b"
  },
  {
   "cell_type": "code",
   "execution_count": 16,
   "outputs": [
    {
     "data": {
      "text/plain": "user.username\njot__b             1019\nrebelpacifist       850\nMaanDee08215437     830\nGurpreetd86         636\nGurmVicky           597\nshells_n_petals     576\npreetysaini321      573\nish_kayy            515\nKaurDosanjh1979     512\nDigitalKisanBot     490\nName: content, dtype: int64"
     },
     "execution_count": 16,
     "metadata": {},
     "output_type": "execute_result"
    }
   ],
   "source": [
    "tweets_flat_df.groupby('user.username')['content'].count().nlargest(10)"
   ],
   "metadata": {
    "collapsed": false,
    "ExecuteTime": {
     "end_time": "2023-09-30T19:56:13.864061885Z",
     "start_time": "2023-09-30T19:56:13.789928506Z"
    }
   },
   "id": "f40a6be0bf56a2fd"
  },
  {
   "cell_type": "markdown",
   "source": [
    "## Los top 10 días donde hay más tweets.\n",
    "Se transforma la columna date para manejarla como fecha.  El método *pd.Grouper* permite especificar que para agrupar los datos de la columna \"date\" es necesario fijarse únicamente en el día, ignorando la infomación de la hora. Posteriormente se hace un conteo de los tweets y se seleccionan los 10 días con mayor número de tweets."
   ],
   "metadata": {
    "collapsed": false
   },
   "id": "9ea45bea0b6ff65e"
  },
  {
   "cell_type": "code",
   "execution_count": 18,
   "outputs": [
    {
     "data": {
      "text/plain": "date\n2021-02-12 00:00:00+00:00    12347\n2021-02-13 00:00:00+00:00    11296\n2021-02-17 00:00:00+00:00    11087\n2021-02-16 00:00:00+00:00    10443\n2021-02-14 00:00:00+00:00    10249\n2021-02-18 00:00:00+00:00     9625\n2021-02-15 00:00:00+00:00     9197\n2021-02-20 00:00:00+00:00     8502\n2021-02-23 00:00:00+00:00     8417\n2021-02-19 00:00:00+00:00     8204\nName: content, dtype: int64"
     },
     "execution_count": 18,
     "metadata": {},
     "output_type": "execute_result"
    }
   ],
   "source": [
    "tweets_flat_df[\"date\"] = pd.to_datetime(tweets_flat_df[\"date\"])\n",
    "tweets_flat_df.groupby(pd.Grouper(key='date', freq='D'))['content'].count().nlargest(10)"
   ],
   "metadata": {
    "collapsed": false,
    "ExecuteTime": {
     "end_time": "2023-09-30T19:58:44.571920061Z",
     "start_time": "2023-09-30T19:58:43.484550809Z"
    }
   },
   "id": "55855c8732aedc72"
  },
  {
   "cell_type": "markdown",
   "source": [
    "   ## Los top 10 hashtags más usados.\n",
    "   Se utiliza una expresión regular para cachar todos las cadenas que comiencen con # que puedan (o no) terminar en espacio o punto, utiliando el método *findall* es posible obtener más de una coincidencia (hashtag) por tweet.\n",
    "   \n",
    "   El resultado de la primera línea devuelve un pd.Series donde cada registro contiene una lista. Se utiliza el método *explode* para convertir cada elemento de la lista en un registro y posteriormente hacer un conteo utilizando el método *value_counts* que devuelve una objeto pd.Series ordenado de forma ascendente. Se toman solo los 10 primero registros. "
   ],
   "metadata": {
    "collapsed": false
   },
   "id": "604ae4a22ff13085"
  },
  {
   "cell_type": "code",
   "execution_count": 24,
   "outputs": [
    {
     "data": {
      "text/plain": "Hashtag\n#FarmersProtest             112630\n#ReleaseDetainedFarmers       5987\n#FarmersMakeIndia             5263\n#farmersprotest               5105\n#MahapanchayatRevolution      4735\n#RepealOnlyWayAhead           4511\n#IndiaBeingSilenced           4332\n#FarmersProtests              3661\n#Pagdi_Sambhal_Jatta          3542\n#DishaRavi                    3017\nName: count, dtype: int64"
     },
     "execution_count": 24,
     "metadata": {},
     "output_type": "execute_result"
    }
   ],
   "source": [
    "hashtags_in_lst = tweets_flat_df[\"content\"].str.findall(r'(#\\w+)[\\s|\\.]?')\n",
    "hashtags = hashtags_in_lst.explode()\n",
    "hashtags.name = 'Hashtag'\n",
    "hashtags.value_counts()[:10]"
   ],
   "metadata": {
    "collapsed": false,
    "ExecuteTime": {
     "end_time": "2023-09-30T20:24:11.112932934Z",
     "start_time": "2023-09-30T20:24:10.874083195Z"
    }
   },
   "id": "209e2908fdc5ce1b"
  },
  {
   "cell_type": "markdown",
   "source": [
    "## Los top 10 emojis más usados."
   ],
   "metadata": {
    "collapsed": false
   },
   "id": "e6b53c6d8200203d"
  },
  {
   "cell_type": "code",
   "execution_count": null,
   "outputs": [],
   "source": [],
   "metadata": {
    "collapsed": false
   },
   "id": "83cf629b5d6c3f4e"
  },
  {
   "cell_type": "markdown",
   "source": [
    "## Los top 10 users más influyentes en función de lo retweeted de sus tweets."
   ],
   "metadata": {
    "collapsed": false
   },
   "id": "7f289100c98eae8d"
  },
  {
   "cell_type": "code",
   "execution_count": null,
   "outputs": [],
   "source": [],
   "metadata": {
    "collapsed": false
   },
   "id": "dadfb8179476f91e"
  }
 ],
 "metadata": {
  "kernelspec": {
   "display_name": "Python 3",
   "language": "python",
   "name": "python3"
  },
  "language_info": {
   "codemirror_mode": {
    "name": "ipython",
    "version": 2
   },
   "file_extension": ".py",
   "mimetype": "text/x-python",
   "name": "python",
   "nbconvert_exporter": "python",
   "pygments_lexer": "ipython2",
   "version": "2.7.6"
  }
 },
 "nbformat": 4,
 "nbformat_minor": 5
}
